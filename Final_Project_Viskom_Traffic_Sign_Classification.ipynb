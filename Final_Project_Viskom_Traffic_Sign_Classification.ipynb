{
  "nbformat": 4,
  "nbformat_minor": 0,
  "metadata": {
    "colab": {
      "provenance": [],
      "gpuType": "T4"
    },
    "kernelspec": {
      "name": "python3",
      "display_name": "Python 3"
    },
    "language_info": {
      "name": "python"
    },
    "accelerator": "GPU"
  },
  "cells": [
    {
      "cell_type": "markdown",
      "source": [
        "# Traffic Sign Classification with CNN\n",
        "\n",
        "1. Citakamalia (1301204122)\n",
        "2. Ghina Annisa S (1301204082)\n",
        "3. Iqlima Putri H (1301204337)\n",
        "\n",
        "<hr>\n",
        "\n",
        "Dataset: https://www.kaggle.com/datasets/meowmeowmeowmeowmeow/gtsrb-german-traffic-sign\n",
        "\n",
        "Dataset German Traffic Sign Benchmark (GTSRB) merupakan dataset multi-class, single image classification dari International Joint Conference on Neural Networks (IJCNN) 2011. Dataset tersebut berisi lebih dari 40 kelas dengan total image lebih dari 50,000 images."
      ],
      "metadata": {
        "id": "fJsIV0dH534T"
      }
    },
    {
      "cell_type": "markdown",
      "source": [
        "# Classification"
      ],
      "metadata": {
        "id": "QBjgY3YIlsqj"
      }
    },
    {
      "cell_type": "code",
      "execution_count": null,
      "metadata": {
        "id": "WRDV-PIY8Lv0"
      },
      "outputs": [],
      "source": [
        "# Fundamental classes\n",
        "import numpy as np\n",
        "import pandas as pd\n",
        "import tensorflow as tf\n",
        "import os\n",
        "\n",
        "from google.colab import drive\n",
        "import zipfile\n",
        "\n",
        "# Image related\n",
        "import cv2\n",
        "from PIL import Image\n",
        "\n",
        "#Performance Plot\n",
        "from sklearn import metrics\n",
        "from sklearn.metrics import f1_score, accuracy_score,confusion_matrix,classification_report\n",
        "import matplotlib.pyplot as plt\n",
        "import seaborn as sns\n",
        "%matplotlib inline\n",
        "\n",
        "# For the model and it's training\n",
        "from sklearn.model_selection import train_test_split\n",
        "from tensorflow.keras.utils import to_categorical\n",
        "from tensorflow.keras.models import Sequential, load_model\n",
        "from tensorflow.keras.layers import Conv2D, MaxPool2D, Dense, Flatten, Dropout\n",
        "\n",
        "# Time\n",
        "import time\n",
        "import datetime"
      ]
    },
    {
      "cell_type": "code",
      "source": [
        "# date_time function\n",
        "\n",
        "def date_time(x):\n",
        "    if x==1:\n",
        "        return 'Timestamp: {:%Y-%m-%d %H:%M:%S}'.format(datetime.datetime.now())\n",
        "    if x==2:\n",
        "        return 'Timestamp: {:%Y-%b-%d %H:%M:%S}'.format(datetime.datetime.now())\n",
        "    if x==3:\n",
        "        return 'Date now: %s' % datetime.datetime.now()\n",
        "    if x==4:\n",
        "        return 'Date today: %s' % datetime.date.today()"
      ],
      "metadata": {
        "id": "7tInOgT7qVb2"
      },
      "execution_count": null,
      "outputs": []
    },
    {
      "cell_type": "code",
      "source": [
        "# Performance Plot\n",
        "\n",
        "def plot_performance(history=None, figure_directory=None, ylim_pad=[0, 0]):\n",
        "    xlabel = 'Epoch'\n",
        "    legends = ['Training', 'Validation']\n",
        "\n",
        "    plt.figure(figsize=(20, 5))\n",
        "\n",
        "    y1 = history.history['accuracy']\n",
        "    y2 = history.history['val_accuracy']\n",
        "\n",
        "    min_y = min(min(y1), min(y2))-ylim_pad[0]\n",
        "    max_y = max(max(y1), max(y2))+ylim_pad[0]\n",
        "\n",
        "\n",
        "    plt.subplot(121)\n",
        "\n",
        "    plt.plot(y1)\n",
        "    plt.plot(y2)\n",
        "\n",
        "    plt.title('Model Accuracy\\n'+date_time(1), fontsize=17)\n",
        "    plt.xlabel(xlabel, fontsize=15)\n",
        "    plt.ylabel('Accuracy', fontsize=15)\n",
        "    plt.ylim(min_y, max_y)\n",
        "    plt.legend(legends, loc='upper left')\n",
        "    plt.grid()\n",
        "\n",
        "    y1 = history.history['loss']\n",
        "    y2 = history.history['val_loss']\n",
        "\n",
        "    min_y = min(min(y1), min(y2))-ylim_pad[1]\n",
        "    max_y = max(max(y1), max(y2))+ylim_pad[1]\n",
        "\n",
        "\n",
        "    plt.subplot(122)\n",
        "\n",
        "    plt.plot(y1)\n",
        "    plt.plot(y2)\n",
        "\n",
        "    plt.title('Model Loss\\n'+date_time(1), fontsize=17)\n",
        "    plt.xlabel(xlabel, fontsize=15)\n",
        "    plt.ylabel('Loss', fontsize=15)\n",
        "    plt.ylim(min_y, max_y)\n",
        "    plt.legend(legends, loc='upper left')\n",
        "    plt.grid()\n",
        "    if figure_directory:\n",
        "        plt.savefig(figure_directory+\"/history\")\n",
        "\n",
        "    plt.show()"
      ],
      "metadata": {
        "id": "wwZtC3AGl62a"
      },
      "execution_count": null,
      "outputs": []
    },
    {
      "cell_type": "markdown",
      "source": [
        "Load Dataset"
      ],
      "metadata": {
        "id": "eyV-r-VDq4-z"
      }
    },
    {
      "cell_type": "code",
      "source": [
        "# Mount Google Drive\n",
        "drive.mount('/content/drive')"
      ],
      "metadata": {
        "colab": {
          "base_uri": "https://localhost:8080/"
        },
        "id": "dz-U7dD5q6HL",
        "outputId": "fb674ba2-4668-4170-b0cc-99b62a87bc60"
      },
      "execution_count": null,
      "outputs": [
        {
          "output_type": "stream",
          "name": "stdout",
          "text": [
            "Drive already mounted at /content/drive; to attempt to forcibly remount, call drive.mount(\"/content/drive\", force_remount=True).\n"
          ]
        }
      ]
    },
    {
      "cell_type": "code",
      "source": [
        "local_zip = '/content/drive/MyDrive/dataset/GTSRB.zip'\n",
        "zip_ref = zipfile.ZipFile(local_zip, 'r')\n",
        "zip_ref.extractall('/content')\n",
        "zip_ref.close()"
      ],
      "metadata": {
        "id": "3N7DsAN21o6g"
      },
      "execution_count": null,
      "outputs": []
    },
    {
      "cell_type": "code",
      "source": [
        "# Setting variables for later use\n",
        "data = []\n",
        "labels = []\n",
        "classes = 43\n",
        "cur_path = os.getcwd()\n",
        "\n",
        "# Retrieving the images and their labels\n",
        "for i in range(classes):\n",
        "    path = os.path.join('/content','train',str(i))\n",
        "    images = os.listdir(path)\n",
        "\n",
        "    for a in images:\n",
        "        try:\n",
        "            image = Image.open(path + '/'+ a)\n",
        "            image = image.resize((30,30))\n",
        "            image = np.array(image)\n",
        "            #sim = Image.fromarray(image)\n",
        "            data.append(image)\n",
        "            labels.append(i)\n",
        "        except:\n",
        "            print(\"Error loading image\")\n",
        "\n",
        "# Converting lists into numpy arrays\n",
        "data = np.array(data)\n",
        "labels = np.array(labels)"
      ],
      "metadata": {
        "id": "t25KjsxjqP8W"
      },
      "execution_count": null,
      "outputs": []
    },
    {
      "cell_type": "markdown",
      "source": [
        "Splitting Data"
      ],
      "metadata": {
        "id": "PDw5MF1Xra_f"
      }
    },
    {
      "cell_type": "code",
      "source": [
        "# Checking data shape\n",
        "print(data.shape, labels.shape)\n",
        "\n",
        "# Splitting training and testing dataset\n",
        "X_train, X_test, y_train, y_test = train_test_split(data, labels, test_size=0.2, random_state=42)\n",
        "\n",
        "# Displaying the shape after the split\n",
        "print(X_train.shape, X_test.shape, y_train.shape, y_test.shape)\n",
        "\n",
        "# Converting the labels into one hot encoding\n",
        "y_train = to_categorical(y_train, 43)\n",
        "y_test = to_categorical(y_test, 43)"
      ],
      "metadata": {
        "colab": {
          "base_uri": "https://localhost:8080/"
        },
        "id": "ScyMytOeraDn",
        "outputId": "8529fe4f-2d93-49a1-a083-50dc4ec3ff72"
      },
      "execution_count": null,
      "outputs": [
        {
          "output_type": "stream",
          "name": "stdout",
          "text": [
            "(39209, 30, 30, 3) (39209,)\n",
            "(31367, 30, 30, 3) (7842, 30, 30, 3) (31367,) (7842,)\n"
          ]
        }
      ]
    },
    {
      "cell_type": "markdown",
      "source": [
        "Building Model"
      ],
      "metadata": {
        "id": "hxPmVi-RrlYA"
      }
    },
    {
      "cell_type": "code",
      "source": [
        "# Building the model\n",
        "model = Sequential()\n",
        "model.add(Conv2D(filters=32, kernel_size=(5,5), activation='relu', input_shape=X_train.shape[1:]))\n",
        "model.add(Conv2D(filters=32, kernel_size=(5,5), activation='relu'))\n",
        "model.add(MaxPool2D(pool_size=(2, 2)))\n",
        "model.add(Dropout(rate=0.25))\n",
        "model.add(Conv2D(filters=64, kernel_size=(3, 3), activation='relu'))\n",
        "model.add(Conv2D(filters=64, kernel_size=(3, 3), activation='relu'))\n",
        "model.add(MaxPool2D(pool_size=(2, 2)))\n",
        "model.add(Dropout(rate=0.25))\n",
        "model.add(Flatten())\n",
        "model.add(Dense(256, activation='relu'))\n",
        "model.add(Dropout(rate=0.5))\n",
        "model.add(Dense(43, activation='softmax'))\n",
        "\n",
        "# Compilation of the model\n",
        "model.compile(loss='categorical_crossentropy', optimizer='adam', metrics=['accuracy'])\n",
        "\n",
        "#M odel display\n",
        "model.summary()"
      ],
      "metadata": {
        "colab": {
          "base_uri": "https://localhost:8080/"
        },
        "id": "c5rv7hPhrkig",
        "outputId": "22776bf2-9603-43bf-f2e6-e846471521f5"
      },
      "execution_count": null,
      "outputs": [
        {
          "output_type": "stream",
          "name": "stdout",
          "text": [
            "Model: \"sequential\"\n",
            "_________________________________________________________________\n",
            " Layer (type)                Output Shape              Param #   \n",
            "=================================================================\n",
            " conv2d (Conv2D)             (None, 26, 26, 32)        2432      \n",
            "                                                                 \n",
            " conv2d_1 (Conv2D)           (None, 22, 22, 32)        25632     \n",
            "                                                                 \n",
            " max_pooling2d (MaxPooling2  (None, 11, 11, 32)        0         \n",
            " D)                                                              \n",
            "                                                                 \n",
            " dropout (Dropout)           (None, 11, 11, 32)        0         \n",
            "                                                                 \n",
            " conv2d_2 (Conv2D)           (None, 9, 9, 64)          18496     \n",
            "                                                                 \n",
            " conv2d_3 (Conv2D)           (None, 7, 7, 64)          36928     \n",
            "                                                                 \n",
            " max_pooling2d_1 (MaxPoolin  (None, 3, 3, 64)          0         \n",
            " g2D)                                                            \n",
            "                                                                 \n",
            " dropout_1 (Dropout)         (None, 3, 3, 64)          0         \n",
            "                                                                 \n",
            " flatten (Flatten)           (None, 576)               0         \n",
            "                                                                 \n",
            " dense (Dense)               (None, 256)               147712    \n",
            "                                                                 \n",
            " dropout_2 (Dropout)         (None, 256)               0         \n",
            "                                                                 \n",
            " dense_1 (Dense)             (None, 43)                11051     \n",
            "                                                                 \n",
            "=================================================================\n",
            "Total params: 242251 (946.29 KB)\n",
            "Trainable params: 242251 (946.29 KB)\n",
            "Non-trainable params: 0 (0.00 Byte)\n",
            "_________________________________________________________________\n"
          ]
        }
      ]
    },
    {
      "cell_type": "markdown",
      "source": [
        "Training Model"
      ],
      "metadata": {
        "id": "rTxiYVbcrrQ1"
      }
    },
    {
      "cell_type": "code",
      "source": [
        "# Training the Model\n",
        "with tf.device('/GPU:0'):\n",
        "    epochs = 25\n",
        "    history1 = model.fit(X_train, y_train, batch_size=32, epochs=epochs, validation_data=(X_test, y_test))"
      ],
      "metadata": {
        "colab": {
          "base_uri": "https://localhost:8080/"
        },
        "id": "Dfhv-tkYrnx5",
        "outputId": "3b7318a0-0ce5-40bb-ba56-d741f5d840bd"
      },
      "execution_count": null,
      "outputs": [
        {
          "output_type": "stream",
          "name": "stdout",
          "text": [
            "Epoch 1/25\n",
            "981/981 [==============================] - 13s 7ms/step - loss: 2.1169 - accuracy: 0.4462 - val_loss: 0.6445 - val_accuracy: 0.8301\n",
            "Epoch 2/25\n",
            "981/981 [==============================] - 6s 6ms/step - loss: 0.7188 - accuracy: 0.7840 - val_loss: 0.2813 - val_accuracy: 0.9300\n",
            "Epoch 3/25\n",
            "981/981 [==============================] - 5s 5ms/step - loss: 0.4478 - accuracy: 0.8665 - val_loss: 0.1914 - val_accuracy: 0.9463\n",
            "Epoch 4/25\n",
            "981/981 [==============================] - 6s 7ms/step - loss: 0.3366 - accuracy: 0.9026 - val_loss: 0.1158 - val_accuracy: 0.9716\n",
            "Epoch 5/25\n",
            "981/981 [==============================] - 5s 5ms/step - loss: 0.3029 - accuracy: 0.9129 - val_loss: 0.0889 - val_accuracy: 0.9760\n",
            "Epoch 6/25\n",
            "981/981 [==============================] - 5s 5ms/step - loss: 0.2684 - accuracy: 0.9257 - val_loss: 0.0796 - val_accuracy: 0.9786\n",
            "Epoch 7/25\n",
            "981/981 [==============================] - 6s 6ms/step - loss: 0.2344 - accuracy: 0.9368 - val_loss: 0.0638 - val_accuracy: 0.9844\n",
            "Epoch 8/25\n",
            "981/981 [==============================] - 5s 5ms/step - loss: 0.2266 - accuracy: 0.9402 - val_loss: 0.0555 - val_accuracy: 0.9858\n",
            "Epoch 9/25\n",
            "981/981 [==============================] - 7s 7ms/step - loss: 0.2419 - accuracy: 0.9358 - val_loss: 0.1045 - val_accuracy: 0.9717\n",
            "Epoch 10/25\n",
            "981/981 [==============================] - 5s 6ms/step - loss: 0.2140 - accuracy: 0.9455 - val_loss: 0.0582 - val_accuracy: 0.9832\n",
            "Epoch 11/25\n",
            "981/981 [==============================] - 5s 5ms/step - loss: 0.2080 - accuracy: 0.9457 - val_loss: 0.0683 - val_accuracy: 0.9825\n",
            "Epoch 12/25\n",
            "981/981 [==============================] - 6s 7ms/step - loss: 0.2143 - accuracy: 0.9458 - val_loss: 0.0495 - val_accuracy: 0.9864\n",
            "Epoch 13/25\n",
            "981/981 [==============================] - 5s 5ms/step - loss: 0.1952 - accuracy: 0.9511 - val_loss: 0.1429 - val_accuracy: 0.9652\n",
            "Epoch 14/25\n",
            "981/981 [==============================] - 6s 7ms/step - loss: 0.2127 - accuracy: 0.9485 - val_loss: 0.0391 - val_accuracy: 0.9902\n",
            "Epoch 15/25\n",
            "981/981 [==============================] - 5s 6ms/step - loss: 0.2181 - accuracy: 0.9462 - val_loss: 0.0753 - val_accuracy: 0.9847\n",
            "Epoch 16/25\n",
            "981/981 [==============================] - 5s 5ms/step - loss: 0.2064 - accuracy: 0.9501 - val_loss: 0.0426 - val_accuracy: 0.9889\n",
            "Epoch 17/25\n",
            "981/981 [==============================] - 6s 7ms/step - loss: 0.1976 - accuracy: 0.9521 - val_loss: 0.0920 - val_accuracy: 0.9759\n",
            "Epoch 18/25\n",
            "981/981 [==============================] - 5s 5ms/step - loss: 0.1993 - accuracy: 0.9530 - val_loss: 0.0498 - val_accuracy: 0.9855\n",
            "Epoch 19/25\n",
            "981/981 [==============================] - 6s 7ms/step - loss: 0.1987 - accuracy: 0.9525 - val_loss: 0.0443 - val_accuracy: 0.9887\n",
            "Epoch 20/25\n",
            "981/981 [==============================] - 6s 6ms/step - loss: 0.2075 - accuracy: 0.9519 - val_loss: 0.2665 - val_accuracy: 0.9294\n",
            "Epoch 21/25\n",
            "981/981 [==============================] - 5s 5ms/step - loss: 0.2281 - accuracy: 0.9497 - val_loss: 0.0535 - val_accuracy: 0.9860\n",
            "Epoch 22/25\n",
            "981/981 [==============================] - 6s 7ms/step - loss: 0.2421 - accuracy: 0.9470 - val_loss: 0.0490 - val_accuracy: 0.9872\n",
            "Epoch 23/25\n",
            "981/981 [==============================] - 5s 5ms/step - loss: 0.2200 - accuracy: 0.9503 - val_loss: 0.0414 - val_accuracy: 0.9898\n",
            "Epoch 24/25\n",
            "981/981 [==============================] - 6s 7ms/step - loss: 0.2367 - accuracy: 0.9471 - val_loss: 0.0512 - val_accuracy: 0.9867\n",
            "Epoch 25/25\n",
            "981/981 [==============================] - 6s 6ms/step - loss: 0.2244 - accuracy: 0.9517 - val_loss: 0.0442 - val_accuracy: 0.9884\n"
          ]
        }
      ]
    },
    {
      "cell_type": "code",
      "source": [
        "plot_performance(history=history1)"
      ],
      "metadata": {
        "colab": {
          "base_uri": "https://localhost:8080/",
          "height": 458
        },
        "id": "fUA01tkktSd6",
        "outputId": "4ad9f953-5d5d-42b6-bd1e-51c75be363d2"
      },
      "execution_count": null,
      "outputs": [
        {
          "output_type": "display_data",
          "data": {
            "text/plain": [
              "<Figure size 2000x500 with 2 Axes>"
            ],
            "image/png": "[encoded data removed]"
          },
          "metadata": {}
        }
      ]
    },
    {
      "cell_type": "code",
      "source": [
        "# testing accuracy on test dataset\n",
        "from sklearn.metrics import accuracy_score\n",
        "\n",
        "# Importing the test dataset\n",
        "y_test = pd.read_csv('/content/Test.csv')\n",
        "\n",
        "labels = y_test[\"ClassId\"].values\n",
        "imgs = y_test[\"Path\"].values\n",
        "\n",
        "data=[]\n",
        "\n",
        "# Retreiving the images\n",
        "with tf.device('/GPU:0'):\n",
        "    for img in imgs:\n",
        "        image = Image.open('/content/'+img)\n",
        "        image = image.resize([30, 30])\n",
        "        data.append(np.array(image))\n",
        "\n",
        "X_test=np.array(data)"
      ],
      "metadata": {
        "id": "xe0ZP2RFtlWr"
      },
      "execution_count": null,
      "outputs": []
    },
    {
      "cell_type": "code",
      "source": [
        "with tf.device('/GPU:0'):\n",
        "    pred = np.argmax(model.predict(X_test), axis=-1)\n",
        "\n",
        "#Accuracy with the test data\n",
        "from sklearn.metrics import accuracy_score\n",
        "print(accuracy_score(labels, pred))"
      ],
      "metadata": {
        "colab": {
          "base_uri": "https://localhost:8080/"
        },
        "id": "vm_WIwaD5CCB",
        "outputId": "b9ebadfc-37da-404f-f638-fb782f9439c7"
      },
      "execution_count": null,
      "outputs": [
        {
          "output_type": "stream",
          "name": "stdout",
          "text": [
            "395/395 [==============================] - 1s 3ms/step\n",
            "0.9544734758511481\n"
          ]
        }
      ]
    },
    {
      "cell_type": "code",
      "source": [
        "from keras.models import load_model, save_model\n",
        "\n",
        "# Save the model to an HDF5 file\n",
        "model.save('traffic-sign-classification.h5')"
      ],
      "metadata": {
        "colab": {
          "base_uri": "https://localhost:8080/"
        },
        "id": "LfYNd8od5ReP",
        "outputId": "dc7398f6-f952-4b64-a68e-17b92c504b75"
      },
      "execution_count": null,
      "outputs": [
        {
          "output_type": "stream",
          "name": "stderr",
          "text": [
            "/usr/local/lib/python3.10/dist-packages/keras/src/engine/training.py:3103: UserWarning: You are saving your model as an HDF5 file via `model.save()`. This file format is considered legacy. We recommend using instead the native Keras format, e.g. `model.save('my_model.keras')`.\n",
            "  saving_api.save_model(\n"
          ]
        }
      ]
    }
  ]
}